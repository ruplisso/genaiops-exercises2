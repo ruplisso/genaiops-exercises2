{
 "cells": [
  {
   "cell_type": "code",
   "execution_count": null,
   "id": "dc8bd753",
   "metadata": {},
   "outputs": [],
   "source": [
    "import asyncio\n",
    "from azure.identity import DefaultAzureCredential\n",
    "import wikipedia\n",
    "import os\n",
    "from typing import List, Dict, Any, Optional\n",
    "# Prepare the text to send to the simulator.\n",
    "wiki_search_term = \"Leonardo da vinci\"\n",
    "wiki_title = wikipedia.search(wiki_search_term)[0]\n",
    "wiki_page = wikipedia.page(wiki_title)\n",
    "text = wiki_page.summary[:5000]"
   ]
  },
  {
   "cell_type": "code",
   "execution_count": null,
   "id": "80731be1",
   "metadata": {},
   "outputs": [],
   "source": []
  }
 ],
 "metadata": {
  "language_info": {
   "name": "python"
  }
 },
 "nbformat": 4,
 "nbformat_minor": 5
}
