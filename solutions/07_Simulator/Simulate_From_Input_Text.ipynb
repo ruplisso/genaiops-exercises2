{
 "cells": [
  {
   "cell_type": "markdown",
   "metadata": {
    "tags": []
   },
   "source": [
    "# Simulate Queries and Responses from input text"
   ]
  },
  {
   "cell_type": "markdown",
   "metadata": {},
   "source": [
    "## Objective\n",
    "\n",
    "Use the Simulator to generate high-quality queries and responses from your data using LLMs.\n",
    "\n",
    "This tutorial uses the following Azure AI services:\n",
    "\n",
    "- Access to Azure OpenAI Service - you can apply for access [here](https://go.microsoft.com/fwlink/?linkid=2222006)\n",
    "- An Azure AI Studio project - go to [aka.ms/azureaistudio](https://aka.ms/azureaistudio) to create a project"
   ]
  },
  {
   "cell_type": "markdown",
   "metadata": {},
   "source": [
    "## Time\n",
    "\n",
    "You should expect to spend 5-10 minutes running this sample. "
   ]
  },
  {
   "cell_type": "markdown",
   "metadata": {},
   "source": [
    "## About this example\n",
    "\n",
    "Large Language Models (LLMs) can help you create query and response datasets from your existing data sources such as text or index. These datasets can be useful for various tasks, such as testing your retrieval capabilities, evaluating and improving your RAG workflows, tuning your prompts and more. In this sample, we will explore how to use the Simulator to generate high-quality query and response pairs from your data using LLMs and simulate interactions with your application with them.\n",
    "\n",
    "\n"
   ]
  },
  {
   "cell_type": "markdown",
   "metadata": {},
   "source": [
    "### Data\n",
    "\n",
    "In this sample we will generate text data from Wikipedia. You can follow the same steps replacing the text with any other source documents of your application's interest. Make sure that the length of the text is within the selected Azure AI model's context length."
   ]
  },
  {
   "cell_type": "markdown",
   "metadata": {},
   "source": [
    "## Before you begin\n",
    "\n"
   ]
  },
  {
   "cell_type": "markdown",
   "metadata": {},
   "source": [
    "### Installation\n",
    "\n",
    "Install the following packages required to execute this notebook. \n",
    "\n"
   ]
  },
  {
   "cell_type": "code",
   "execution_count": 1,
   "metadata": {},
   "outputs": [],
   "source": [
    "# Install the packages\n",
    "# %pip install azure-identity azure-ai-evaluation\n",
    "# %pip install promptflow-azure\n",
    "# %pip install wikipedia openai"
   ]
  },
  {
   "cell_type": "markdown",
   "metadata": {
    "tags": []
   },
   "source": [
    "### Parameters\n",
    "\n",
    "Lets initialize some variables. We need a way to connect to a LLM to use the notebook. This sample suggests a way to use `gpt-4o-mini` deployment in your Azure AI project. Replace the `azure_openai_endpoint` with a link to your endpoint. If your applications calls `AzureOpenAI`'s chat completion endpoint, you will need to replace the values in `<>` with your `AzureOpenAI` deployment details. \n",
    "\n"
   ]
  },
  {
   "cell_type": "code",
   "execution_count": 2,
   "metadata": {
    "tags": [
     "parameters"
    ]
   },
   "outputs": [],
   "source": [
    "import os\n",
    "from dotenv import load_dotenv\n",
    "load_dotenv('../../.env')\n",
    "\n",
    "# Create an Azure AI Client from an endpoint, copied from your Azure AI Foundry project.\n",
    "azure_ai_project = os.environ[\"AI_PROJECT_ENDPOINT\"]  # Ensure the PROJECT_ENDPOINT environment variable is set\n"
   ]
  },
  {
   "cell_type": "markdown",
   "metadata": {
    "tags": []
   },
   "source": [
    "### Connect to your project\n",
    "\n",
    "To start with let us create a config file with your project details."
   ]
  },
  {
   "cell_type": "code",
   "execution_count": 3,
   "metadata": {
    "tags": []
   },
   "outputs": [],
   "source": [
    "import json\n",
    "from pathlib import Path\n",
    "\n",
    "model_config = {\n",
    "    \"azure_deployment\": os.getenv(\"AZURE_OPENAI_DEPLOYMENT\"),\n",
    "    \"api_key\": os.getenv(\"AZURE_OPENAI_API_KEY\"),\n",
    "    \"azure_endpoint\": os.getenv(\"AZURE_OPENAI_ENDPOINT\"),\n",
    "    \"api_version\": os.getenv(\"AZURE_OPENAI_API_VERSION\"),\n",
    "}\n",
    "\n",
    "# JSON mode supported model preferred to avoid errors ex. gpt-4o-mini, gpt-4o, gpt-4 (1106)"
   ]
  },
  {
   "cell_type": "markdown",
   "metadata": {},
   "source": [
    "Let us connect to the project. DefaultAzureCredentails will be picked up by the SDK which runs the prompty files to authenticate your requests. If you want to use your AzureOpenAI key to authenticate, you can do so by setting the `api_key` in your `model_config`"
   ]
  },
  {
   "cell_type": "code",
   "execution_count": 4,
   "metadata": {},
   "outputs": [
    {
     "name": "stderr",
     "output_type": "stream",
     "text": [
      "Class Simulator: This is an experimental class, and may change at any time. Please see https://aka.ms/azuremlexperimental for more information.\n"
     ]
    }
   ],
   "source": [
    "from azure.ai.evaluation.simulator import Simulator\n",
    "\n",
    "simulator = Simulator(model_config=model_config)"
   ]
  },
  {
   "cell_type": "markdown",
   "metadata": {},
   "source": [
    "### Connecting the simulator to your application\n",
    "This part assumes that you application is a call to `AzureOpenAI`'s chat completion endpoint. Feel free to change this method to call your application with its configuration."
   ]
  },
  {
   "cell_type": "code",
   "execution_count": 5,
   "metadata": {},
   "outputs": [],
   "source": [
    "from typing import List, Dict, Any, Optional\n",
    "from openai import AzureOpenAI\n",
    "from azure.identity import DefaultAzureCredential, get_bearer_token_provider\n",
    "\n",
    "\n",
    "def call_to_your_ai_application(query: str) -> str:\n",
    "    # logic to call your application\n",
    "    # use a try except block to catch any errors\n",
    "    token_provider = get_bearer_token_provider(DefaultAzureCredential(), \"https://cognitiveservices.azure.com/.default\")\n",
    "\n",
    "    deployment = os.environ.get(\"AZURE_OPENAI_DEPLOYMENT\")\n",
    "    endpoint = os.environ.get(\"AZURE_OPENAI_ENDPOINT\")\n",
    "    client = AzureOpenAI(\n",
    "        azure_endpoint=endpoint,\n",
    "        api_version=os.environ.get(\"AZURE_OPENAI_API_VERSION\"),\n",
    "        azure_ad_token_provider=token_provider,\n",
    "    )\n",
    "    completion = client.chat.completions.create(\n",
    "        model=deployment,\n",
    "        messages=[\n",
    "            {\n",
    "                \"role\": \"user\",\n",
    "                \"content\": query,\n",
    "            }\n",
    "        ],\n",
    "        max_tokens=800,\n",
    "        temperature=0.7,\n",
    "        top_p=0.95,\n",
    "        frequency_penalty=0,\n",
    "        presence_penalty=0,\n",
    "        stop=None,\n",
    "        stream=False,\n",
    "    )\n",
    "    message = completion.to_dict()[\"choices\"][0][\"message\"]\n",
    "    # change this to return the response from your application\n",
    "    return message[\"content\"]\n",
    "\n",
    "\n",
    "async def callback(\n",
    "    messages: List[Dict],\n",
    "    stream: bool = False,\n",
    "    session_state: Any = None,  # noqa: ANN401\n",
    "    context: Optional[Dict[str, Any]] = None,\n",
    ") -> dict:\n",
    "    messages_list = messages[\"messages\"]\n",
    "    # get last message\n",
    "    latest_message = messages_list[-1]\n",
    "    query = latest_message[\"content\"]\n",
    "    context = None\n",
    "    # call your endpoint or ai application here\n",
    "    response = call_to_your_ai_application(query)\n",
    "    # we are formatting the response to follow the openAI chat protocol format\n",
    "    formatted_response = {\n",
    "        \"content\": response,\n",
    "        \"role\": \"assistant\",\n",
    "        \"context\": {\n",
    "            \"citations\": None,\n",
    "        },\n",
    "    }\n",
    "    messages[\"messages\"].append(formatted_response)\n",
    "    return {\"messages\": messages[\"messages\"], \"stream\": stream, \"session_state\": session_state, \"context\": context}"
   ]
  },
  {
   "cell_type": "markdown",
   "metadata": {},
   "source": [
    "### Data source for the simulator\n",
    "In this example we use a wikipedia article as raw text generate Query Response pairs. Alternatively, text from an Azure Search index can be used as a data source for the simulator to generate Query Response pairs. An example of this behavior can be seen in [simulate_input_index sample](..\\simulate_input_index\\simulate_input_index.ipynb)"
   ]
  },
  {
   "cell_type": "code",
   "execution_count": 6,
   "metadata": {},
   "outputs": [],
   "source": [
    "import wikipedia\n",
    "\n",
    "wiki_search_term = \"Leonardo da vinci\"\n",
    "wiki_title = wikipedia.search(wiki_search_term)[0]\n",
    "wiki_page = wikipedia.page(wiki_title)\n",
    "text = wiki_page.summary[:5000]"
   ]
  },
  {
   "cell_type": "markdown",
   "metadata": {},
   "source": [
    "### Call to simulator\n",
    "This call to the simulator generates 4 query response pairs in its first pass.\n",
    "In the second pass, it picks up one task, pairs it with a query (generated in previous pass) and sends it to the configured llm to build the first user turn. This user turn is then passed to the `callback` method. The conversation continutes till the `max_conversation_turns` turns.\n",
    "\n",
    "The output of the simulator will have the original task, original query, the original query and the response generated from the first turn as expected response. You can find them in the `context` key of the conversation."
   ]
  },
  {
   "cell_type": "code",
   "execution_count": 8,
   "metadata": {},
   "outputs": [
    {
     "name": "stderr",
     "output_type": "stream",
     "text": [
      "Generating: 100%|██████████████████████████████████████████████| 12/12 [02:50<00:00, 14.19s/message]\n"
     ]
    }
   ],
   "source": [
    "outputs = await simulator(\n",
    "    target=callback,\n",
    "    text=text,\n",
    "    num_queries=4,\n",
    "    max_conversation_turns=3,\n",
    "    tasks=[\n",
    "        f\"I am a student and I want to learn more about {wiki_search_term}\",\n",
    "        f\"I am a teacher and I want to teach my students about {wiki_search_term}\",\n",
    "        f\"I am a researcher and I want to do a detailed research on {wiki_search_term}\",\n",
    "        f\"I am a statistician and I want to do a detailed table of factual data concerning {wiki_search_term}\",\n",
    "    ],\n",
    ")"
   ]
  },
  {
   "cell_type": "code",
   "execution_count": 9,
   "metadata": {},
   "outputs": [
    {
     "name": "stdout",
     "output_type": "stream",
     "text": [
      "[{'messages': [{'role': 'user', 'content': 'Can you tell me when Leonardo da Vinci was born and when he passed away?', 'context': 'None'}, {'role': 'assistant', 'content': 'Certainly! Leonardo da Vinci was born on **April 15, 1452**, in Vinci, Italy, and he passed away on **May 2, 1519**, in Amboise, France.', 'context': \"{'citations': None}\"}, {'role': 'user', 'content': \"That's fascinating! Could you tell me more about his contributions to art and science?\", 'context': 'None'}, {'role': 'assistant', 'content': 'Of course! Leonardo da Vinci is widely regarded as one of the most brilliant minds in history, embodying the ideal of the \"Renaissance Man\" through his remarkable contributions to both art and science. Here\\'s a deeper look at his work in each field:\\n\\n### **Art:**\\nLeonardo revolutionized the art world with his innovative techniques, keen observation, and ability to capture human emotion and natural beauty. Some of his key contributions include:\\n\\n1. **Masterpieces:**\\n   - *The Mona Lisa*: Renowned for her enigmatic smile and the subtle use of sfumato (a technique blending colors to create soft transitions), this painting is one of the most famous and studied artworks in history.\\n   - *The Last Supper*: A groundbreaking depiction of Christ and his disciples at the moment Jesus announces his betrayal. Leonardo\\'s use of perspective and composition creates a dynamic and emotionally charged scene.\\n   - *Vitruvian Man*: This iconic drawing illustrates the ideal proportions of the human body, blending art and science in a single image.\\n\\n2. **Innovative Techniques:**\\n   - **Sfumato:** Leonardo perfected this technique, creating atmospheric softness in his paintings, especially in facial features and landscapes.\\n   - **Chiaroscuro:** He used dramatic contrasts between light and shadow to add depth and realism to his work.\\n   - **Perspective:** Leonardo\\'s mastery of linear perspective brought a sense of three-dimensionality to his compositions.\\n\\n3. **Sketches and Studies:**\\n   Leonardo filled notebooks with anatomical sketches, architectural designs, and studies of nature. His attention to detail and commitment to understanding the world around him elevated his art to new heights.\\n\\n---\\n\\n### **Science and Engineering:**\\nLeonardo\\'s scientific inquiries and engineering designs were centuries ahead of their time. His notebooks, written in mirror script, contain groundbreaking ideas and observations. Key contributions include:\\n\\n1. **Anatomy:**\\n   - Leonardo dissected human cadavers to study muscles, organs, and bones. His detailed anatomical drawings, such as studies of the human heart and fetus, were incredibly accurate and influential.\\n   - He sought to understand not just the structure but also the function of the human body, connecting biology to mechanics.\\n\\n2. **Engineering and Invention:**\\n   - Leonardo conceptualized numerous machines, including flying devices (like the ornithopter), a precursor to the modern helicopter, and an armored vehicle resembling a tank.\\n   - He designed water pumps, bridges, and even automated systems, demonstrating his deep understanding of mechanics and hydraulics.\\n   - While many of his inventions were not built in his lifetime, they laid the groundwork for modern engineering.\\n\\n3. **Scientific Observations:**\\n   - Leonardo explored the principles of physics, including optics, fluid dynamics, and aerodynamics.\\n   - He studied the flow of water and the movement of air, applying these observations to both scientific and artistic endeavors.\\n   - His curiosity extended to astronomy, geology, and botany, making him a true polymath.\\n\\n4. **Interdisciplinary Thinking:**\\n   - Leonardo\\'s ability to connect art and science was revolutionary. He believed that understanding the mechanics of the world was essential to creating realistic and meaningful art.\\n   - His holistic approach inspired generations of thinkers and creators, bridging the gap between disciplines.\\n\\n---\\n\\n### **Legacy:**\\nLeonardo da Vinci\\'s work has had a profound and lasting impact on both art and science. His artistic techniques shaped the Renaissance and influenced countless painters. Meanwhile, his scientific explorations foreshadowed modern discoveries, and his engineering designs inspired innovation for centuries.\\n\\nBeyond his tangible contributions, Leonardo\\'s insatiable curiosity and interdisciplinary approach continue to inspire people across fields to think creatively, question deeply, and explore the unknown.', 'context': \"{'citations': None}\"}, {'role': 'user', 'content': \"Wow, Leonardo's interdisciplinary approach is truly inspiring! Could you tell me more about his notebooks and how they were preserved over time?\", 'context': 'None'}, {'role': 'assistant', 'content': 'Absolutely! Leonardo da Vinci\\'s notebooks are a treasure trove of his genius, offering remarkable insights into his interdisciplinary approach to art, science, and engineering. These notebooks, often referred to as \"codices,\" contain thousands of pages filled with sketches, diagrams, observations, and musings written in his distinctive mirror writing—a style where the text is written backward and can be read only with the aid of a mirror.\\n\\n### Content of the Notebooks\\nLeonardo\\'s notebooks cover an astonishing range of topics, including anatomy, botany, physics, mechanics, hydraulics, architecture, flight, and even philosophical reflections. He meticulously documented his studies and ideas, often blending artistic sketches with scientific observations. Some of his most famous drawings, such as the Vitruvian Man and designs for flying machines, are found in these notebooks.\\n\\n### Major Codices\\nLeonardo\\'s notebooks were not bound in a single volume during his lifetime but existed as loose sheets and small booklets. After his death in 1519, these were dispersed among his students and collectors, leading to their division into several codices. Some of the most famous examples include:\\n\\n1. **Codex Atlanticus**: The largest collection of Leonardo\\'s papers, housed in the Biblioteca Ambrosiana in Milan. It spans a wide range of topics, from engineering designs to studies on geometry.\\n\\n2. **Codex Leicester**: Currently owned by Bill Gates, this codex focuses on Leonardo\\'s thoughts on water, astronomy, and geology. It is one of the most famous codices due to its detailed exploration of natural phenomena.\\n\\n3. **Codex on the Flight of Birds**: Located in the Biblioteca Reale in Turin, this codex contains Leonardo’s observations on bird flight and his designs for flying machines.\\n\\n4. **Codex Madrid**: Preserved in the Biblioteca Nacional de España, this codex includes Leonardo\\'s studies on mechanics and engineering.\\n\\n### Preservation and Dissemination\\nLeonardo\\'s notebooks were not systematically preserved after his death, leading to their fragmentation. Some were inherited by his pupil Francesco Melzi, who tried to organize them but eventually left them vulnerable to dispersal. Over the centuries, the notebooks passed through various hands, with some pages lost, damaged, or sold separately.\\n\\nEfforts to preserve and study these works gained momentum during the Renaissance and later periods. Today, many of the surviving notebooks are housed in prestigious institutions such as the Biblioteca Ambrosiana, the British Library, and the Institut de France. Modern technology has further enhanced their preservation, with digitization efforts allowing scholars and the public to access and analyze their contents.\\n\\n### Legacy of the Notebooks\\nLeonardo\\'s notebooks exemplify his boundless curiosity and holistic approach to knowledge. They continue to inspire artists, scientists, and thinkers across disciplines. His ability to combine rigorous observation with imaginative speculation demonstrates the power of interdisciplinary thinking—a legacy that remains profoundly relevant in our increasingly interconnected world.', 'context': \"{'citations': None}\"}], 'finish_reason': ['stop'], 'context': {'task': 'I am a student and I want to learn more about Leonardo da vinci', 'expected_response': '15 April 1452 – 2 May 1519', 'query': 'What are the birth and death dates of Leonardo da Vinci?', 'original_text': \"Leonardo di ser Piero da Vinci (15 April 1452 – 2 May 1519) was an Italian polymath of the High Renaissance who was active as a painter, draughtsman, engineer, scientist, theorist, sculptor, and architect. While his fame initially rested on his achievements as a painter, he has also become known for his notebooks, in which he made drawings and notes on a variety of subjects, including anatomy, astronomy, botany, cartography, painting, and palaeontology. Leonardo is widely regarded to have been a genius who epitomised the Renaissance humanist ideal, and his collective works comprise a contribution to later generations of artists matched only by that of his younger contemporary Michelangelo.\\nBorn out of wedlock to a successful notary and a lower-class woman in, or near, Vinci, he was educated in Florence by the Italian painter and sculptor Andrea del Verrocchio. He began his career in the city, but then spent much time in the service of Ludovico Sforza in Milan. Later, he worked in Florence and Milan again, as well as briefly in Rome, all while attracting a large following of imitators and students. Upon the invitation of Francis I, he spent his last three years in France, where he died in 1519. Since his death, there has not been a time where his achievements, diverse interests, personal life, and empirical thinking have failed to incite interest and admiration, making him a frequent namesake and subject in culture.\\nLeonardo is identified as one of the greatest painters in the history of Western art and is often credited as the founder of the High Renaissance. Despite having many lost works and fewer than 25 attributed major works – including numerous unfinished works – he created some of the most influential paintings in the Western canon. The Mona Lisa is his best known work and is the world's most famous individual painting. The Last Supper is the most reproduced religious painting of all time and his Vitruvian Man drawing is also regarded as a cultural icon. In 2017, Salvator Mundi, attributed in whole or part to Leonardo, was sold at auction for US$450.3 million, setting a new record for the most expensive painting ever sold at public auction.\\nRevered for his technological ingenuity, he conceptualised flying machines, a type of armoured fighting vehicle, concentrated solar power, a ratio machine that could be used in an adding machine, and the double hull. Relatively few of his designs were constructed or were even feasible during his lifetime, as the modern scientific approaches to metallurgy and engineering were only in their infancy during the Renaissance. Some of his smaller inventions, however, entered the world of manufacturing unheralded, such as an automated bobbin winder and a machine for testing the tensile strength of wire. He made substantial discoveries in anatomy, civil engineering, hydrodynamics, geology, optics, and tribology, but he did not publish his findings and they had little to no direct influence on subsequent science.\"}, '$schema': 'http://azureml/sdk-2-0/ChatConversation.json'}, {'messages': [{'role': 'user', 'content': \"To help your students engage with Leonardo da Vinci's work, which painting of his would you highlight as the world's most famous individual artwork?\", 'context': 'None'}, {'role': 'assistant', 'content': \"To help students engage with Leonardo da Vinci's work, I would highlight the **Mona Lisa** as the world's most famous individual artwork. Renowned for its enigmatic expression, masterful use of sfumato (a technique of blending colors and tones), and its widespread cultural significance, the Mona Lisa offers a fascinating entry point into Leonardo's genius. Students can explore its mysterious smile, detailed background, and the innovative techniques Leonardo employed, while discussing the painting's global impact and enduring appeal.\", 'context': \"{'citations': None}\"}, {'role': 'user', 'content': \"That's a great choice! To make the lesson more interactive, would you like ideas for activities or discussion prompts that can help students analyze the Mona Lisa and connect it to Leonardo's broader contributions to art and science?\", 'context': 'None'}, {'role': 'assistant', 'content': \"Absolutely! Here are some engaging activities and discussion prompts to help students analyze the *Mona Lisa* and connect it to Leonardo da Vinci's broader contributions to art and science:\\n\\n---\\n\\n### **Interactive Activities**\\n\\n1. **Close Observation and Analysis**\\n   - Provide high-resolution images of the *Mona Lisa*. Ask students to study the painting closely, observing details like her expression, the sfumato technique, the background landscape, and how light and shadow are used. \\n   - Ask: *What emotions does her expression convey? How does Leonardo create a sense of depth and realism?*\\n\\n2. **Recreate Leonardo’s Experiments**\\n   - Explore Leonardo’s fascination with anatomy and proportions. Provide students with an outline of the *Vitruvian Man* and ask them to measure proportions of their own body (e.g., height compared to arm span) to see how it matches Leonardo’s observations.\\n   - Discuss how understanding anatomy might have influenced his ability to paint lifelike portraits like the *Mona Lisa*.\\n\\n3. **Compare Art and Science**\\n   - Show students examples of Leonardo’s scientific sketches (e.g., his studies of human anatomy, flying machines, or water dynamics). Compare these to the *Mona Lisa*. \\n   - Activity: Create a Venn diagram comparing how Leonardo blended art and science in different works.\\n\\n4. **Facial Expression Challenge**\\n   - Have students experiment with drawing or sculpting their own version of the *Mona Lisa*’s enigmatic expression. Discuss how subtle changes in the corners of the mouth or the eyes can dramatically alter the mood of a portrait.\\n\\n5. **Interactive Timeline**\\n   - Create a timeline of Leonardo’s life, including major artworks (*Mona Lisa*, *The Last Supper*) and scientific contributions (anatomical studies, inventions). Students can research and add key events to the timeline to explore how his interests evolved.\\n\\n---\\n\\n### **Discussion Prompts**\\n\\n1. **Mona Lisa’s Mysteries**\\n   - *Why do you think the Mona Lisa’s smile is considered so enigmatic? What techniques did Leonardo use to create this effect?*\\n\\n2. **Art and Science Intersect**\\n   - *How do you think Leonardo’s scientific studies influenced his ability to create realistic art? Can you think of other artists or innovators who combine art and science in their work?*\\n\\n3. **Legacy of Innovation**\\n   - *Leonardo was ahead of his time in many ways. What qualities or habits might have helped him excel in both art and science? How can we apply those traits to our own lives?*\\n\\n4. **Nature in Art**\\n   - *Look at the background of the Mona Lisa. How does Leonardo’s depiction of nature contribute to the mood of the painting? Why do you think he paid so much attention to the natural world in both his art and scientific studies?*\\n\\n5. **Emotional Connection**\\n   - *Why do you think people are so captivated by the Mona Lisa? Does her expression make you feel something personally? Why or why not?*\\n\\n---\\n\\n### **Creative Extensions**\\n\\n1. **Modern Portraits Inspired by the Mona Lisa**\\n   - Challenge students to create their own modern version of the *Mona Lisa*, incorporating elements of today’s culture, technology, or their own identities. \\n\\n2. **Art and Science Debate**\\n   - Divide students into teams and have them debate: *Was Leonardo more impactful as an artist or a scientist?* Encourage them to use evidence from his life and works.\\n\\n3. **Symbolism Exploration**\\n   - Ask: *What do you think the Mona Lisa symbolizes? Could she represent more than just a person (e.g., mystery, beauty, humanity)?*\\n\\n---\\n\\nThese activities and prompts are designed to spark curiosity, deepen analysis, and help students appreciate the *Mona Lisa* not just as a masterpiece, but as a window into Leonardo da Vinci’s genius and his ability to merge art and science seamlessly.\", 'context': \"{'citations': None}\"}, {'role': 'user', 'content': \"These ideas are fantastic! To further enrich the lesson, would you like suggestions for incorporating multimedia resources, such as videos or virtual museum tours, to give students a more immersive experience of Leonardo da Vinci's work?\", 'context': 'None'}, {'role': 'assistant', 'content': 'Absolutely! Incorporating multimedia resources can greatly enhance the learning experience by providing students with dynamic and interactive ways to engage with Leonardo da Vinci\\'s genius. Here are some suggestions:\\n\\n### Videos:\\n1. **Documentaries on Leonardo da Vinci**  \\n   - Share clips from documentaries like *\"The Genius of Leonardo\"* or *\"Leonardo: The Man Who Saved Science\"* to introduce students to his life, works, and legacy.\\n   - Focus on segments that explore his inventions, anatomical studies, or iconic works like the *Mona Lisa* and *The Last Supper*.\\n\\n2. **Art Analysis Videos**  \\n   - Use videos from platforms like Smarthistory or Khan Academy that delve into the techniques and symbolism behind Leonardo’s masterpieces.\\n\\n3. **Engineering and Inventions**  \\n   - Show short animations or reconstructions of his inventions, such as the flying machine, tank, or Vitruvian Man, to highlight his engineering brilliance.\\n\\n### Virtual Museum Tours:\\n1. **Louvre Museum (France)**  \\n   - Many museums offer virtual tours of their collections, including the *Mona Lisa*. The Louvre\\'s online resources could allow students to explore Leonardo\\'s works in high definition.\\n\\n2. **Leonardo da Vinci Museum (Italy)**  \\n   - Explore the Museo Leonardiano in Vinci, Italy, which features models of his inventions and interactive displays. Some museums even offer virtual walkthroughs.\\n\\n3. **Google Arts & Culture**  \\n   - This platform provides high-resolution images of Leonardo’s works and curated online exhibits. Students can zoom in to study the minute details of his paintings and sketches.\\n\\n### Interactive Tools:\\n1. **Da Vinci\\'s Notebooks Online**  \\n   - Many institutions have digitized Leonardo’s notebooks, such as the Codex Atlanticus or Codex Leicester. Students can explore his sketches and writings firsthand.\\n\\n2. **Augmented Reality Apps**  \\n   - Apps like \"Google Expeditions\" or museum-specific AR tools can simulate Leonardo’s inventions or allow students to interact with his artworks in 3D.\\n\\n### Creative Integration:\\n1. **Video Creation**  \\n   - Encourage students to create their own short videos or presentations, summarizing Leonardo’s contributions to art and science, using multimedia tools like Canva or iMovie.\\n\\n2. **Multimedia Project**  \\n   - Assign a group project where students design a virtual exhibit showcasing Leonardo’s works, incorporating images, videos, and narration.\\n\\nBy blending multimedia resources into the lesson, students can experience Leonardo\\'s work in a vivid, engaging way that bridges art, science, and history. Would you like help finding specific links or resources to support these ideas?', 'context': \"{'citations': None}\"}], 'finish_reason': ['stop'], 'context': {'task': 'I am a teacher and I want to teach my students about Leonardo da vinci', 'expected_response': 'Mona Lisa', 'query': \"Which painting by Leonardo da Vinci is considered the world's most famous individual painting?\", 'original_text': \"Leonardo di ser Piero da Vinci (15 April 1452 – 2 May 1519) was an Italian polymath of the High Renaissance who was active as a painter, draughtsman, engineer, scientist, theorist, sculptor, and architect. While his fame initially rested on his achievements as a painter, he has also become known for his notebooks, in which he made drawings and notes on a variety of subjects, including anatomy, astronomy, botany, cartography, painting, and palaeontology. Leonardo is widely regarded to have been a genius who epitomised the Renaissance humanist ideal, and his collective works comprise a contribution to later generations of artists matched only by that of his younger contemporary Michelangelo.\\nBorn out of wedlock to a successful notary and a lower-class woman in, or near, Vinci, he was educated in Florence by the Italian painter and sculptor Andrea del Verrocchio. He began his career in the city, but then spent much time in the service of Ludovico Sforza in Milan. Later, he worked in Florence and Milan again, as well as briefly in Rome, all while attracting a large following of imitators and students. Upon the invitation of Francis I, he spent his last three years in France, where he died in 1519. Since his death, there has not been a time where his achievements, diverse interests, personal life, and empirical thinking have failed to incite interest and admiration, making him a frequent namesake and subject in culture.\\nLeonardo is identified as one of the greatest painters in the history of Western art and is often credited as the founder of the High Renaissance. Despite having many lost works and fewer than 25 attributed major works – including numerous unfinished works – he created some of the most influential paintings in the Western canon. The Mona Lisa is his best known work and is the world's most famous individual painting. The Last Supper is the most reproduced religious painting of all time and his Vitruvian Man drawing is also regarded as a cultural icon. In 2017, Salvator Mundi, attributed in whole or part to Leonardo, was sold at auction for US$450.3 million, setting a new record for the most expensive painting ever sold at public auction.\\nRevered for his technological ingenuity, he conceptualised flying machines, a type of armoured fighting vehicle, concentrated solar power, a ratio machine that could be used in an adding machine, and the double hull. Relatively few of his designs were constructed or were even feasible during his lifetime, as the modern scientific approaches to metallurgy and engineering were only in their infancy during the Renaissance. Some of his smaller inventions, however, entered the world of manufacturing unheralded, such as an automated bobbin winder and a machine for testing the tensile strength of wire. He made substantial discoveries in anatomy, civil engineering, hydrodynamics, geology, optics, and tribology, but he did not publish his findings and they had little to no direct influence on subsequent science.\"}, '$schema': 'http://azureml/sdk-2-0/ChatConversation.json'}, {'messages': [{'role': 'user', 'content': \"Can you provide details about the auction price of Salvator Mundi in 2017 and its significance in Leonardo da Vinci's legacy?\", 'context': 'None'}, {'role': 'assistant', 'content': 'Certainly! Leonardo da Vinci\\'s *Salvator Mundi* (Latin for \"Savior of the World\") made history on November 15, 2017, when it was sold at auction by Christie\\'s in New York for a staggering $450.3 million. This price set a record as the most expensive artwork ever sold at auction, underscoring its immense significance in the art world.\\n\\n### Details of the Auction:\\n- **Auction House:** Christie\\'s, New York\\n- **Price:** $450.3 million (including fees)\\n- **Buyer:** Although initially undisclosed, the buyer was later reported to be Saudi Arabian Crown Prince Mohammed bin Salman, acting through a proxy.\\n- **Seller:** The painting was consigned by Russian billionaire Dmitry Rybolovlev, who had purchased it for $127.5 million in 2013.\\n\\n### Significance in Leonardo da Vinci\\'s Legacy:\\n1. **Rarity of Leonardo\\'s Works:** Fewer than 20 paintings are widely attributed to Leonardo, making *Salvator Mundi* extraordinarily rare. It is considered one of the last known works by the Renaissance master still in private hands at the time of the auction.\\n\\n2. **Rediscovery and Authentication:** The painting had been lost for centuries and was rediscovered in 2005. After extensive restoration and authentication, it was attributed to Leonardo, though some experts remain skeptical about the extent of his involvement.\\n\\n3. **Cultural and Historical Importance:** *Salvator Mundi* represents Christ as the savior of the world, holding a crystal orb symbolizing the heavens. The painting reflects Leonardo\\'s mastery of light, shadow, and anatomy, as well as his deep engagement with theological and philosophical themes.\\n\\n4. **Controversy:** The painting\\'s attribution to Leonardo has sparked ongoing debates among art historians, with some questioning whether it is entirely by his hand or partially executed by his workshop. This controversy has added to its mystique and intrigue.\\n\\n5. **Public Interest:** Its record-breaking sale highlighted the enduring fascination with Leonardo\\'s genius and the art market\\'s hunger for iconic works. The astronomical price also symbolized the intersection of art, wealth, and power.\\n\\n6. **Current Status:** Following the auction, *Salvator Mundi* has reportedly been kept out of public view, and its exact whereabouts remain unclear. Speculation suggests it may be housed on Prince Mohammed bin Salman\\'s luxury yacht or intended for display at the Louvre Abu Dhabi.\\n\\nThe sale of *Salvator Mundi* not only cemented Leonardo\\'s legacy as an unparalleled figure in art history but also demonstrated the profound impact of his works on culture, economics, and global prestige.', 'context': \"{'citations': None}\"}, {'role': 'user', 'content': \"That's fascinating! Given the controversies surrounding the attribution of Salvator Mundi, could you elaborate on the methods used to authenticate Leonardo da Vinci's works and the challenges involved?\", 'context': 'None'}, {'role': 'assistant', 'content': \"Certainly! Authenticating Leonardo da Vinci's works, including the *Salvator Mundi*, is a complex and highly contentious process that involves a combination of scientific, historical, and stylistic analyses. Here’s a detailed look at the methods and challenges:\\n\\n### Methods Used to Authenticate Leonardo's Works:\\n\\n1. **Provenance Research**:\\n   - Investigators trace the ownership history of the artwork to establish its origins and chain of custody. This involves studying historical records, inventories, and documented transactions. For example, the *Salvator Mundi* was linked to King Charles I of England through historical inventories, adding credibility to its potential authenticity.\\n\\n2. **Scientific Analysis**:\\n   - **Infrared Reflectography**: This technique reveals underdrawings and preparatory sketches hidden beneath the paint layers. Leonardo was known for his meticulous preliminary drawings, which can be indicative of his hand.\\n   - **X-ray Imaging**: X-rays can uncover structural details like the composition of the panel or canvas and the layering of paint, which can match Leonardo’s known techniques.\\n   - **Pigment and Medium Analysis**: Scientists analyze the chemical composition of the paint and materials to ensure they are consistent with those used by Leonardo during the Renaissance.\\n   - **Carbon Dating**: Dating the wood panel or canvas can confirm its age, ensuring it aligns with the period when Leonardo was active.\\n\\n3. **Stylistic Analysis**:\\n   - Art historians examine the painting’s style, brushwork, and composition to compare them with Leonardo’s known works. Leonardo had a distinctive sfumato technique (soft transitions between colors and tones), which is often a key focus.\\n   - Iconographic analysis is also used to study the symbols and motifs in the artwork and how they align with Leonardo’s interests, such as his fascination with anatomy and light.\\n\\n4. **Comparative Analysis**:\\n   - The artwork is compared with authenticated works by Leonardo, such as the *Mona Lisa* or *The Last Supper*. This involves analyzing similarities in facial features, proportions, and technical execution.\\n   - Known drawings or preparatory studies by Leonardo can also be used to corroborate the attribution.\\n\\n5. **Expert Opinion**:\\n   - Panels of Leonardo scholars, curators, and art historians weigh in on the attribution. Their assessments are based on decades of experience studying his oeuvre and the broader Renaissance context.\\n\\n---\\n\\n### Challenges in Authenticating Leonardo's Works:\\n\\n1. **Collaborative Workshop Practices**:\\n   - Leonardo often worked with assistants and apprentices in his studio, and many works attributed to him may have been partially or wholly executed by his pupils. This complicates the process of determining whether Leonardo himself painted the artwork.\\n\\n2. **Condition and Restoration**:\\n   - Renaissance paintings often undergo significant restoration over centuries, which can obscure original details. In the case of *Salvator Mundi*, extensive restoration raised doubts about how much of the original work remains and whether it was truly by Leonardo.\\n\\n3. **Sparse Documentation**:\\n   - Unlike some Renaissance artists, Leonardo did not always sign or date his works, and records of commissions are often incomplete. This creates gaps in the provenance and attribution process.\\n\\n4. **Market Pressures**:\\n   - The art market’s influence can complicate objectivity. Attributions to Leonardo can dramatically inflate an artwork’s value, leading to potential biases or conflicts of interest among stakeholders.\\n\\n5. **Debates Among Experts**:\\n   - Leonardo’s small body of surviving works means there’s limited material for comparison. Scholars often disagree on whether certain stylistic elements are definitive of his hand or simply reflective of his workshop.\\n\\n6. **Evolving Technology**:\\n   - As new techniques for analyzing artworks emerge, previously accepted attributions can be called into question. For example, advances in imaging and pigment analysis may reveal details that were overlooked in earlier evaluations.\\n\\n---\\n\\n### The Case of *Salvator Mundi*:\\n- The attribution of *Salv\", 'context': \"{'citations': None}\"}, {'role': 'user', 'content': \"Given the complexities and controversies surrounding the authentication of Leonardo's works, do you think the debate over *Salvator Mundi* has impacted the public perception of Leonardo's legacy? How do such debates influence the art market and cultural heritage?\", 'context': 'None'}, {'role': 'assistant', 'content': 'The debate over the authenticity of *Salvator Mundi* has undeniably influenced the public perception of Leonardo da Vinci\\'s legacy, the art market, and cultural heritage in multifaceted ways. While Leonardo\\'s reputation as a genius remains intact, the controversies surrounding this painting have introduced a layer of skepticism and intrigue that reshapes how the public engages with his works.\\n\\n### Impact on Public Perception of Leonardo’s Legacy\\nThe ongoing debates about *Salvator Mundi*—whether it was fully painted by Leonardo or merely produced by his workshop with some of his input—have highlighted the complexities inherent in attributing works to Old Masters. For the general public, this has brought Leonardo\\'s legacy under scrutiny, shifting some focus away from his undisputed masterpieces like *Mona Lisa* and *The Last Supper* to the murky processes of authentication, restoration, and attribution. While this scrutiny has led to heightened interest in his body of work, it also introduces a perception that even the most celebrated artists are subject to the uncertainties of history and art connoisseurship.\\n\\n### Influence on the Art Market\\nThe record-breaking $450.3 million sale of *Salvator Mundi* in 2017 set a new precedent for the art market, demonstrating the extraordinary value placed on works attributed to Leonardo. However, the subsequent debates about its authenticity have also exposed vulnerabilities in the art market, where attribution can dramatically inflate or deflate a work\\'s value. Buyers, collectors, and institutions may now approach such high-stakes acquisitions with greater caution, demanding more rigorous scientific analysis and provenance documentation. At the same time, the controversy has arguably fueled the market\\'s fascination with Leonardo, as any connection to him—even tenuous—can drive interest and prices upward. This duality underscores the art market\\'s reliance on narrative and mystique as much as on the artworks themselves.\\n\\n### Effects on Cultural Heritage\\nFor museums and cultural institutions, the *Salvator Mundi* controversy has reinforced the importance of transparency in authentication processes and the ethical considerations around restoration and provenance. It also raises questions about the stewardship of cultural heritage, especially when such works are held in private collections rather than accessible to the public. The painting\\'s absence from public display since its sale amplifies concerns about the privatization of historically significant artworks and the loss of opportunities for scholarly study and public engagement.\\n\\n### Broader Implications\\nMore broadly, the debate over *Salvator Mundi* has sparked conversations about the nature of \"authenticity\" in art, the role of experts, and the limits of technological analysis in determining authorship. It has also highlighted the tension between commercial interests and the preservation of cultural heritage. These issues resonate beyond Leonardo, influencing how other contested works by major artists are perceived and evaluated.\\n\\nUltimately, while the *Salvator Mundi* controversy may have complicated Leonardo\\'s legacy in the short term, it has also deepened public fascination with his work and the enigmatic processes of art history. Such debates serve as reminders of the enduring mysteries that surround great art, which continue to captivate audiences and shape the art world.', 'context': \"{'citations': None}\"}], 'finish_reason': ['stop'], 'context': {'task': 'I am a researcher and I want to do a detailed research on Leonardo da vinci', 'expected_response': 'US$450.3 million', 'query': 'What was the auction price of Salvator Mundi in 2017?', 'original_text': \"Leonardo di ser Piero da Vinci (15 April 1452 – 2 May 1519) was an Italian polymath of the High Renaissance who was active as a painter, draughtsman, engineer, scientist, theorist, sculptor, and architect. While his fame initially rested on his achievements as a painter, he has also become known for his notebooks, in which he made drawings and notes on a variety of subjects, including anatomy, astronomy, botany, cartography, painting, and palaeontology. Leonardo is widely regarded to have been a genius who epitomised the Renaissance humanist ideal, and his collective works comprise a contribution to later generations of artists matched only by that of his younger contemporary Michelangelo.\\nBorn out of wedlock to a successful notary and a lower-class woman in, or near, Vinci, he was educated in Florence by the Italian painter and sculptor Andrea del Verrocchio. He began his career in the city, but then spent much time in the service of Ludovico Sforza in Milan. Later, he worked in Florence and Milan again, as well as briefly in Rome, all while attracting a large following of imitators and students. Upon the invitation of Francis I, he spent his last three years in France, where he died in 1519. Since his death, there has not been a time where his achievements, diverse interests, personal life, and empirical thinking have failed to incite interest and admiration, making him a frequent namesake and subject in culture.\\nLeonardo is identified as one of the greatest painters in the history of Western art and is often credited as the founder of the High Renaissance. Despite having many lost works and fewer than 25 attributed major works – including numerous unfinished works – he created some of the most influential paintings in the Western canon. The Mona Lisa is his best known work and is the world's most famous individual painting. The Last Supper is the most reproduced religious painting of all time and his Vitruvian Man drawing is also regarded as a cultural icon. In 2017, Salvator Mundi, attributed in whole or part to Leonardo, was sold at auction for US$450.3 million, setting a new record for the most expensive painting ever sold at public auction.\\nRevered for his technological ingenuity, he conceptualised flying machines, a type of armoured fighting vehicle, concentrated solar power, a ratio machine that could be used in an adding machine, and the double hull. Relatively few of his designs were constructed or were even feasible during his lifetime, as the modern scientific approaches to metallurgy and engineering were only in their infancy during the Renaissance. Some of his smaller inventions, however, entered the world of manufacturing unheralded, such as an automated bobbin winder and a machine for testing the tensile strength of wire. He made substantial discoveries in anatomy, civil engineering, hydrodynamics, geology, optics, and tribology, but he did not publish his findings and they had little to no direct influence on subsequent science.\"}, '$schema': 'http://azureml/sdk-2-0/ChatConversation.json'}, {'messages': [{'role': 'user', 'content': 'To create a detailed table of factual data about Leonardo da Vinci, I need to know: Who invited Leonardo da Vinci to spend his last three years in France, and what were the circumstances surrounding this invitation?', 'context': 'None'}, {'role': 'assistant', 'content': 'Leonardo da Vinci was invited to spend his last three years in France by **King Francis I**. The circumstances surrounding this invitation were tied to King Francis I’s admiration for Leonardo’s genius and his desire to enhance the cultural and artistic prestige of his court.\\n\\nIn 1516, Francis I offered Leonardo a residence in France, providing him with the title of \"Premier Painter, Engineer, and Architect to the King.\" Leonardo accepted the invitation and moved to France, bringing with him several of his works, including the famous **Mona Lisa**. He settled in the **Château du Clos Lucé**, near the king\\'s residence at **Amboise**, in the Loire Valley.\\n\\nDuring his time in France, Leonardo continued to work on his sketches, designs, and scientific studies, although his health was declining. King Francis I held Leonardo in high regard and reportedly visited him frequently, engaging in intellectual discussions. Leonardo passed away at the Château du Clos Lucé on **May 2, 1519**, at the age of 67.\\n\\nThis invitation reflected the Renaissance ideal of promoting art and knowledge, and it demonstrated Francis I\\'s commitment to fostering cultural enrichment within his kingdom.', 'context': \"{'citations': None}\"}, {'role': 'user', 'content': \"Would you like me to include details about Leonardo's contributions during his time in France, such as specific works or projects he undertook, in the table? Or should I focus on summarizing his overall legacy and influence during this period?\", 'context': 'None'}, {'role': 'assistant', 'content': \"Including details about Leonardo da Vinci's contributions during his time in France would be a great addition to the table! Highlighting specific works or projects, such as the artistic and engineering pursuits he undertook under the patronage of King Francis I, would provide valuable insights into his final years and the impact of his work in France. For example, you could mention his residence at Château du Clos Lucé, his sketches and plans for grand engineering projects, and his role as a cultural advisor to the French court. If preferred, you could also complement this with a summary of his overall legacy and influence during this period, emphasizing how his ideas continued to inspire generations after his death.\", 'context': \"{'citations': None}\"}, {'role': 'user', 'content': 'Would you like me to include information about the specific artworks Leonardo brought with him to France, such as the Mona Lisa, and how they were received by King Francis I and the French court? Additionally, should I delve into the scientific and engineering concepts he explored during this time, or focus solely on his artistic contributions?', 'context': 'None'}, {'role': 'assistant', 'content': \"Including information about the specific artworks Leonardo brought with him to France, such as the *Mona Lisa*, and their reception by King Francis I and the French court would add depth and historical context to your discussion. The *Mona Lisa* is particularly significant, as it is believed to have been among the few paintings Leonardo took with him when he moved to France in 1516 to serve under Francis I. Examining how these works were received by the French court could shed light on Leonardo's legacy and influence during the final years of his life.\\n\\nAdditionally, delving into the scientific and engineering concepts Leonardo explored during his time in France would provide a more comprehensive view of his contributions. While his artistic achievements are paramount, his scientific inquiries and inventions reveal the breadth of his genius. Balancing both aspects—artistic and scientific—would give your discussion a richer perspective on Leonardo's multifaceted contributions during his time at Clos Lucé, his residence in France.\\n\\nUltimately, the focus should depend on the purpose and scope of your work. If you're aiming for a holistic portrayal of Leonardo's time in France, integrating both his artistic and scientific endeavors would be ideal. However, if your focus is more narrowly centered on his artistic contributions, then prioritizing the artworks and their reception would be more appropriate.\", 'context': \"{'citations': None}\"}], 'finish_reason': ['stop'], 'context': {'task': 'I am a statistician and I want to do a detailed table of factual data concerning Leonardo da vinci', 'expected_response': 'Francis I', 'query': 'Who invited Leonardo da Vinci to spend his last three years in France?', 'original_text': \"Leonardo di ser Piero da Vinci (15 April 1452 – 2 May 1519) was an Italian polymath of the High Renaissance who was active as a painter, draughtsman, engineer, scientist, theorist, sculptor, and architect. While his fame initially rested on his achievements as a painter, he has also become known for his notebooks, in which he made drawings and notes on a variety of subjects, including anatomy, astronomy, botany, cartography, painting, and palaeontology. Leonardo is widely regarded to have been a genius who epitomised the Renaissance humanist ideal, and his collective works comprise a contribution to later generations of artists matched only by that of his younger contemporary Michelangelo.\\nBorn out of wedlock to a successful notary and a lower-class woman in, or near, Vinci, he was educated in Florence by the Italian painter and sculptor Andrea del Verrocchio. He began his career in the city, but then spent much time in the service of Ludovico Sforza in Milan. Later, he worked in Florence and Milan again, as well as briefly in Rome, all while attracting a large following of imitators and students. Upon the invitation of Francis I, he spent his last three years in France, where he died in 1519. Since his death, there has not been a time where his achievements, diverse interests, personal life, and empirical thinking have failed to incite interest and admiration, making him a frequent namesake and subject in culture.\\nLeonardo is identified as one of the greatest painters in the history of Western art and is often credited as the founder of the High Renaissance. Despite having many lost works and fewer than 25 attributed major works – including numerous unfinished works – he created some of the most influential paintings in the Western canon. The Mona Lisa is his best known work and is the world's most famous individual painting. The Last Supper is the most reproduced religious painting of all time and his Vitruvian Man drawing is also regarded as a cultural icon. In 2017, Salvator Mundi, attributed in whole or part to Leonardo, was sold at auction for US$450.3 million, setting a new record for the most expensive painting ever sold at public auction.\\nRevered for his technological ingenuity, he conceptualised flying machines, a type of armoured fighting vehicle, concentrated solar power, a ratio machine that could be used in an adding machine, and the double hull. Relatively few of his designs were constructed or were even feasible during his lifetime, as the modern scientific approaches to metallurgy and engineering were only in their infancy during the Renaissance. Some of his smaller inventions, however, entered the world of manufacturing unheralded, such as an automated bobbin winder and a machine for testing the tensile strength of wire. He made substantial discoveries in anatomy, civil engineering, hydrodynamics, geology, optics, and tribology, but he did not publish his findings and they had little to no direct influence on subsequent science.\"}, '$schema': 'http://azureml/sdk-2-0/ChatConversation.json'}]\n"
     ]
    }
   ],
   "source": [
    "print (outputs)"
   ]
  },
  {
   "cell_type": "markdown",
   "metadata": {},
   "source": [
    "### Overriding the user simulating behavior\n",
    "Internally, the SDK has a `prompty` file that defines how the LLM which simulates the user should behave. Our SDK also offers an option for users to override the file, to support your own prompty files. Here's a brief overview of how to accomplish overriding the user behavior.\n",
    "\n",
    "Make sure you have `user_override.prompty` file in the same directory. The file in this repo takes an additional argument called mood. This is to show how you can add any additional keyword arguments to your prompty."
   ]
  },
  {
   "cell_type": "code",
   "execution_count": 10,
   "metadata": {},
   "outputs": [
    {
     "name": "stderr",
     "output_type": "stream",
     "text": [
      "Generating: 100%|████████████████████████████████████████████████| 4/4 [00:52<00:00, 13.11s/message]\n"
     ]
    }
   ],
   "source": [
    "current_directory = Path.cwd()\n",
    "user_override_prompty = Path(current_directory) / \"user_override.prompty\"\n",
    "user_prompty_kwargs = {\"mood\": \"happy\"}\n",
    "\n",
    "outputs = await simulator(\n",
    "    target=callback,\n",
    "    text=text,\n",
    "    num_queries=4,\n",
    "    max_conversation_turns=1,\n",
    "    tasks=[\n",
    "        f\"I am a student and I want to learn more about {wiki_search_term}\",\n",
    "        f\"I am a teacher and I want to teach my students about {wiki_search_term}\",\n",
    "        f\"I am a researcher and I want to do a detailed research on {wiki_search_term}\",\n",
    "        f\"I am a statistician and I want to do a detailed table of factual data concerning {wiki_search_term}\",\n",
    "    ],\n",
    "    user_simulator_prompty=user_override_prompty,\n",
    "    user_simulator_prompty_options=user_prompty_kwargs,\n",
    ")"
   ]
  },
  {
   "cell_type": "markdown",
   "metadata": {},
   "source": [
    "### Save the generated data for later use"
   ]
  },
  {
   "cell_type": "code",
   "execution_count": null,
   "metadata": {},
   "outputs": [],
   "source": [
    "from pathlib import Path\n",
    "\n",
    "output_file = Path(\"output.json\")\n",
    "with output_file.open(\"a\") as f:\n",
    "    json.dump(outputs, f)"
   ]
  },
  {
   "cell_type": "markdown",
   "metadata": {},
   "source": [
    "### Running evaluations on the simulated data\n",
    "Here we will try to run GroundednessEvaluator, RelevanceEvaluator, CoherenceEvaluator, FluencyEvaluator, SimilarityEvaluator, F1ScoreEvaluator on the output data from the simulator.\n",
    "\n",
    "From the documentation we know that running those evaluators need the following data: `query`, `response`, `context`, `ground_truth`\n",
    "\n",
    "For simplicity's sake, we can use our source document `text` as both `context` and `ground_truth`. This step only evaluates the first user message and first response from your AI Application for each of the simulated conversations."
   ]
  },
  {
   "cell_type": "code",
   "execution_count": null,
   "metadata": {},
   "outputs": [],
   "source": [
    "eval_input_data_json_lines = \"\"\n",
    "for output in outputs:\n",
    "    query = None\n",
    "    response = None\n",
    "    context = text\n",
    "    ground_truth = text\n",
    "    for message in output[\"messages\"]:\n",
    "        if message[\"role\"] == \"user\":\n",
    "            query = message[\"content\"]\n",
    "        if message[\"role\"] == \"assistant\":\n",
    "            response = message[\"content\"]\n",
    "    if query and response:\n",
    "        eval_input_data_json_lines += (\n",
    "            json.dumps(\n",
    "                {\n",
    "                    \"query\": query,\n",
    "                    \"response\": response,\n",
    "                    \"context\": context,\n",
    "                    \"ground_truth\": ground_truth,\n",
    "                }\n",
    "            )\n",
    "            + \"\\n\"\n",
    "        )"
   ]
  },
  {
   "cell_type": "markdown",
   "metadata": {},
   "source": [
    "Store the output in a file"
   ]
  },
  {
   "cell_type": "code",
   "execution_count": null,
   "metadata": {},
   "outputs": [],
   "source": [
    "eval_input_data_file = Path(\"eval_input_data.jsonl\")\n",
    "with eval_input_data_file.open(\"w\") as f:\n",
    "    f.write(eval_input_data_json_lines)"
   ]
  },
  {
   "cell_type": "markdown",
   "metadata": {
    "tags": []
   },
   "source": [
    "### Run evaluation\n",
    "`QAEvaluator` is a composite evaluator which runs GroundednessEvaluator, RelevanceEvaluator, CoherenceEvaluator, FluencyEvaluator, SimilarityEvaluator, F1ScoreEvaluator\n",
    "\n",
    "Optionally set the azure_ai_project to upload the evaluation results to Azure AI Studio."
   ]
  },
  {
   "cell_type": "code",
   "execution_count": null,
   "metadata": {
    "tags": []
   },
   "outputs": [],
   "source": [
    "from azure.ai.evaluation import evaluate, QAEvaluator\n",
    "\n",
    "qa_evaluator = QAEvaluator(model_config=model_config)\n",
    "\n",
    "eval_output = evaluate(\n",
    "    data=str(eval_input_data_file),\n",
    "    evaluators={\"QAEvaluator\": qa_evaluator},\n",
    "    evaluator_config={\n",
    "        \"QAEvaluator\": {\n",
    "            \"column_mapping\": {\n",
    "                \"query\": \"${data.query}\",\n",
    "                \"response\": \"${data.response}\",\n",
    "                \"context\": \"${data.context}\",\n",
    "                \"ground_truth\": \"${data.ground_truth}\",\n",
    "            }\n",
    "        }\n",
    "    },\n",
    "    azure_ai_project=azure_ai_project,  # optional to store the evaluation results in Azure AI Studio\n",
    "    output_path=\"./myevalresults.json\",  # optional to store the evaluation results in a file\n",
    ")"
   ]
  },
  {
   "cell_type": "markdown",
   "metadata": {},
   "source": [
    "## Cleaning up\n",
    "\n",
    "To clean up all Azure ML resources used in this example, you can delete the individual resources you created in this tutorial.\n",
    "\n",
    "If you made a resource group specifically to run this example, you could instead [delete the resource group](https://learn.microsoft.com/en-us/azure/azure-resource-manager/management/delete-resource-group)."
   ]
  }
 ],
 "metadata": {
  "colab": {
   "collapsed_sections": [],
   "name": "notebook_template.ipynb",
   "toc_visible": true
  },
  "kernelspec": {
   "display_name": "genaiops2envagent",
   "language": "python",
   "name": "python3"
  },
  "language_info": {
   "codemirror_mode": {
    "name": "ipython",
    "version": 3
   },
   "file_extension": ".py",
   "mimetype": "text/x-python",
   "name": "python",
   "nbconvert_exporter": "python",
   "pygments_lexer": "ipython3",
   "version": "3.12.11"
  }
 },
 "nbformat": 4,
 "nbformat_minor": 4
}
