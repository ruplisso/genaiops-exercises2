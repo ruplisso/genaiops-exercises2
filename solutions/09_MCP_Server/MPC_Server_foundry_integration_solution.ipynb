{
 "cells": [
  {
   "cell_type": "markdown",
   "id": "5f1f9c38",
   "metadata": {},
   "source": [
    "### Imports and env:\n",
    "- Load .env file.\n",
    "- Import os, time, Azure AI Projects client, DefaultAzureCredential.\n",
    "- Import models used for agent and MCP tool interactions."
   ]
  },
  {
   "cell_type": "code",
   "execution_count": 22,
   "id": "246cd1e4",
   "metadata": {},
   "outputs": [],
   "source": [
    "from dotenv import load_dotenv\n",
    "load_dotenv('../../.env')\n",
    "\n",
    "# Import necessary libraries\n",
    "\n",
    "import os, time\n",
    "from azure.ai.projects import AIProjectClient\n",
    "from azure.identity import DefaultAzureCredential\n",
    "from azure.ai.agents.models import (\n",
    "    ListSortOrder,\n",
    "    McpTool,\n",
    "    RequiredMcpToolCall,\n",
    "    RunStepActivityDetails,\n",
    "    SubmitToolApprovalAction,\n",
    "    ToolApproval,\n",
    ")"
   ]
  },
  {
   "cell_type": "markdown",
   "id": "57459be3",
   "metadata": {},
   "source": [
    "### AI project client & MCP tool setup :\n",
    "- Read MCP server URL/label from environment variables.\n",
    "- Instantiate the AIProjectClient (explicit, not using 'with') so cells can run separately.\n",
    "- Initialize McpTool and allow an example tool."
   ]
  },
  {
   "cell_type": "code",
   "execution_count": 23,
   "id": "582230db",
   "metadata": {},
   "outputs": [
    {
     "name": "stdout",
     "output_type": "stream",
     "text": [
      "Allowed tools: ['search_azure_rest_api_code']\n"
     ]
    }
   ],
   "source": [
    "# Get MCP server configuration from environment variables and create the client\n",
    "mcp_server_url = os.environ.get(\"MCP_SERVER_URL\", \"https://gitmcp.io/Azure/azure-rest-api-specs\")\n",
    "mcp_server_label = os.environ.get(\"MCP_SERVER_LABEL\", \"github\")\n",
    "\n",
    "# Instantiate the client (not using 'with' so cells can be split)\n",
    "project_client = AIProjectClient(\n",
    "    endpoint=os.environ[\"AI_PROJECT_ENDPOINT\"],\n",
    "    credential=DefaultAzureCredential(),\n",
    ")\n",
    "\n",
    "# Initialize agent MCP tool\n",
    "mcp_tool = McpTool(\n",
    "    server_label=mcp_server_label,\n",
    "    server_url=mcp_server_url,\n",
    "    allowed_tools=[],  # Optional: specify allowed tools\n",
    ")\n",
    "\n",
    "# Add an example allowed tool\n",
    "search_api_code = \"search_azure_rest_api_code\"\n",
    "mcp_tool.allow_tool(search_api_code)\n",
    "print(f\"Allowed tools: {mcp_tool.allowed_tools}\")"
   ]
  },
  {
   "cell_type": "markdown",
   "id": "bd911a47",
   "metadata": {},
   "source": [
    "### Create agent, thread, message, and start a run :\n",
    "- Create an agent using the agents client.\n",
    "- Create a thread and send a user message.\n",
    "- Update MCP tool headers and create a run using the agent and tool resources."
   ]
  },
  {
   "cell_type": "code",
   "execution_count": 24,
   "id": "57df6a29",
   "metadata": {},
   "outputs": [
    {
     "name": "stdout",
     "output_type": "stream",
     "text": [
      "Created agent, ID: asst_KSOCLQ6DJdRGmBGpsL55iRXS\n",
      "MCP Server: github at https://gitmcp.io/Azure/azure-rest-api-specs\n",
      "Created thread, ID: thread_8sABdrKCfEv4hN6EJ90XFlxH\n",
      "Created message, ID: msg_WcbwtU86R7OFbKSACQS2zTRq\n",
      "Created run, ID: run_c7LHDmJXp0eemc9HUuCePg0e\n"
     ]
    }
   ],
   "source": [
    "# Create agent, thread, message and start a run\n",
    "agents_client = project_client.agents\n",
    "\n",
    "agent = agents_client.create_agent(\n",
    "    model=\"gpt-4o\", \n",
    "    name=\"my-mcp-agent\",\n",
    "    instructions=\"You are a helpful agent that can use MCP tools to assist users. Use the available MCP tools to answer questions and perform tasks.\",\n",
    "    tools=mcp_tool.definitions,\n",
    ")\n",
    "\n",
    "print(f\"Created agent, ID: {agent.id}\")\n",
    "print(f\"MCP Server: {mcp_tool.server_label} at {mcp_tool.server_url}\")\n",
    "\n",
    "# Create thread\n",
    "thread = agents_client.threads.create()\n",
    "print(f\"Created thread, ID: {thread.id}\")\n",
    "\n",
    "#Create message\n",
    "message = agents_client.messages.create(\n",
    "    thread_id=thread.id,\n",
    "    role=\"user\",\n",
    "    content=\"Please summarize the Azure REST API specifications Readme\",\n",
    ")\n",
    "print(f\"Created message, ID: {message.id}\")\n",
    "\n",
    "# Prepare headers/approval and create run\n",
    "mcp_tool.update_headers(\"SuperSecret\", \"123456\")\n",
    "\n",
    "# mcp_tool.set_approval_mode(\"never\")  # Uncomment to disable approval requirement\n",
    "run = agents_client.runs.create(thread_id=thread.id, agent_id=agent.id, tool_resources=mcp_tool.resources)\n",
    "print(f\"Created run, ID: {run.id}\")"
   ]
  },
  {
   "cell_type": "markdown",
   "id": "8e222d21",
   "metadata": {},
   "source": [
    "### Polling and approvals :\n",
    "- Poll the run status until completion.\n",
    "- If the run requires action and tool approval, gather tool calls and submit approvals.\n",
    "- Print the current run status and final result."
   ]
  },
  {
   "cell_type": "code",
   "execution_count": 25,
   "id": "aad16e7d",
   "metadata": {},
   "outputs": [
    {
     "name": "stdout",
     "output_type": "stream",
     "text": [
      "Approving tool call: {'id': 'call_MsdgHqtpS6aFO0NYE3AGUKBH', 'type': 'mcp', 'arguments': '{\"query\":\"readme.md\",\"page\":1}', 'name': 'search_azure_rest_api_code', 'server_label': 'github'}\n",
      "tool_approvals: [{'tool_call_id': 'call_MsdgHqtpS6aFO0NYE3AGUKBH', 'approve': True, 'headers': {'SuperSecret': '123456'}}]\n",
      "Current run status: RunStatus.REQUIRES_ACTION\n",
      "Current run status: RunStatus.IN_PROGRESS\n",
      "Current run status: RunStatus.COMPLETED\n",
      "Run completed with status: RunStatus.COMPLETED\n"
     ]
    }
   ],
   "source": [
    "# Poll run status and handle tool approvals if required\n",
    "while run.status in [\"queued\", \"in_progress\", \"requires_action\"]:\n",
    "    time.sleep(5)\n",
    "    run = agents_client.runs.get(thread_id=thread.id, run_id=run.id)\n",
    "\n",
    "    if run.status == \"requires_action\" and isinstance(run.required_action, SubmitToolApprovalAction):\n",
    "        tool_calls = run.required_action.submit_tool_approval.tool_calls\n",
    "        if not tool_calls:\n",
    "            print(\"No tool calls provided - cancelling run\")\n",
    "            agents_client.runs.cancel(thread_id=thread.id, run_id=run.id)\n",
    "            break\n",
    "\n",
    "        tool_approvals = []\n",
    "        for tool_call in tool_calls:\n",
    "            if isinstance(tool_call, RequiredMcpToolCall):\n",
    "                try:\n",
    "                    print(f\"Approving tool call: {tool_call}\")\n",
    "                    tool_approvals.append(\n",
    "                        ToolApproval(\n",
    "                            tool_call_id=tool_call.id,\n",
    "                            approve=True,\n",
    "                            headers=mcp_tool.headers,\n",
    "                        )\n",
    "                    )\n",
    "                except Exception as e:\n",
    "                    print(f\"Error approving tool_call {tool_call.id}: {e}\")\n",
    "\n",
    "        print(f\"tool_approvals: {tool_approvals}\")\n",
    "        if tool_approvals:\n",
    "            agents_client.runs.submit_tool_outputs(\n",
    "                thread_id=thread.id, run_id=run.id, tool_approvals=tool_approvals\n",
    "            )\n",
    "\n",
    "    print(f\"Current run status: {run.status}\")\n",
    "\n",
    "print(f\"Run completed with status: {run.status}\")\n",
    "if run.status == \"failed\":\n",
    "    print(f\"Run failed: {run.last_error}\")"
   ]
  },
  {
   "cell_type": "markdown",
   "id": "b0d25bc1",
   "metadata": {},
   "source": [
    "### Display results, messages and perform cleanup:\n",
    "- List run steps and display any tool calls or function parameters.\n",
    "- Fetch and print conversation messages.\n",
    "- Finally delete the agent and close the client."
   ]
  },
  {
   "cell_type": "code",
   "execution_count": null,
   "id": "fa094d50",
   "metadata": {},
   "outputs": [
    {
     "name": "stdout",
     "output_type": "stream",
     "text": [
      "Step step_2k91puJlwE2TjurMOQjljqLT status: completed\n",
      "\n",
      "Step step_haMwsYoi9nSIoq3qnfuWxrOe status: completed\n",
      "  MCP Tool calls:\n",
      "    Tool Call ID: call_MsdgHqtpS6aFO0NYE3AGUKBH\n",
      "    Type: mcp\n",
      "\n",
      "\n",
      "Conversation:\n",
      "--------------------------------------------------\n",
      "USER: Please summarize the Azure REST API specifications Readme\n",
      "--------------------------------------------------\n",
      "ASSISTANT: The repository contains numerous README files across different directories and specifications. To summarize a specific README, I need its location in the repository. Here are some examples of README files found:\n",
      "\n",
      "- **General tooling and guidelines:**\n",
      "  - [`eng/tools/lint-diff/README.md`](https://github.com/Azure/azure-rest-api-specs/blob/f4d79a1a326481435d1240987885204b57ae5129/eng/tools/lint-diff/README.md)\n",
      "  - [`documentation/samplefiles/README.md`](https://github.com/Azure/azure-rest-api-specs/blob/f4d79a1a326481435d1240987885204b57ae5129/documentation/samplefiles/README.md)\n",
      "\n",
      "- **Specific service specifications:**\n",
      "  - [`specification/orbital/data-plane/readme.md`](https://github.com/Azure/azure-rest-api-specs/blob/f4d79a1a326481435d1240987885204b57ae5129/specification/orbital/data-plane/readme.md)\n",
      "  - [`specification/sovereign/resource-manager/readme.md`](https://github.com/Azure/azure-rest-api-specs/blob/f4d79a1a326481435d1240987885204b57ae5129/specification/sovereign/resource-manager/readme.md)\n",
      "\n",
      "If you’re searching for an overall Azure REST API README or one for a specific service, providing more context can help refine the summary. Do you have a specific README in mind?\n",
      "--------------------------------------------------\n",
      "\n",
      "Demonstrating dynamic tool management:\n",
      "Current allowed tools: ['search_azure_rest_api_code']\n",
      "After removing search_azure_rest_api_code: []\n",
      "Deleted agent\n"
     ]
    }
   ],
   "source": [
    "# Display run steps and tool calls\n",
    "\n",
    "run_steps = agents_client.run_steps.list(thread_id=thread.id, run_id=run.id)\n",
    "\n",
    "for step in run_steps:\n",
    "    print(f\"Step {step['id']} status: {step['status']}\")\n",
    "    step_details = step.get(\"step_details\", {})\n",
    "    tool_calls = step_details.get(\"tool_calls\", [])\n",
    "\n",
    "    if tool_calls:\n",
    "        print(\"  MCP Tool calls:\")\n",
    "        for call in tool_calls:\n",
    "            print(f\"    Tool Call ID: {call.get('id')}\")\n",
    "            print(f\"    Type: {call.get('type')}\")\n",
    "\n",
    "    if isinstance(step_details, RunStepActivityDetails):\n",
    "        for activity in step_details.activities:\n",
    "            for function_name, function_definition in activity.tools.items():\n",
    "                print(\n",
    "                    f'  The function {function_name} with description \"{function_definition.description}\" will be called.:'\n",
    "                )\n",
    "                if len(function_definition.parameters) > 0:\n",
    "                    print(\"  Function parameters:\")\n",
    "                    for argument, func_argument in function_definition.parameters.properties.items():\n",
    "                        print(f\"      {argument}\")\n",
    "                        print(f\"      Type: {func_argument.type}\")\n",
    "                        print(f\"      Description: {func_argument.description}\")\n",
    "                else:\n",
    "                    print(\"This function has no parameters\")\n",
    "    print()\n",
    "\n",
    "# Fetch and log all messages\n",
    "messages = agents_client.messages.list(thread_id=thread.id, order=ListSortOrder.ASCENDING)\n",
    "print(\"\\nConversation:\")\n",
    "print(\"-\" * 50)\n",
    "for msg in messages:\n",
    "    if msg.text_messages:\n",
    "        last_text = msg.text_messages[-1]\n",
    "        print(f\"{msg.role.upper()}: {last_text.text.value}\")\n",
    "        print(\"-\" * 50)\n",
    "\n",
    "\n",
    "# Clean-up and delete the agent once the run is finished.\n",
    "# NOTE: Comment out this line if you plan to reuse the agent later.\n",
    "agents_client.delete_agent(agent.id)\n",
    "print(\"Deleted agent\")\n",
    "\n",
    "# Close the client explicitly since we removed the 'with' context\n",
    "try:\n",
    "    project_client.close()\n",
    "except Exception:\n",
    "    pass"
   ]
  }
 ],
 "metadata": {
  "kernelspec": {
   "display_name": "genaiops2envagent",
   "language": "python",
   "name": "python3"
  },
  "language_info": {
   "codemirror_mode": {
    "name": "ipython",
    "version": 3
   },
   "file_extension": ".py",
   "mimetype": "text/x-python",
   "name": "python",
   "nbconvert_exporter": "python",
   "pygments_lexer": "ipython3",
   "version": "3.12.11"
  }
 },
 "nbformat": 4,
 "nbformat_minor": 5
}
