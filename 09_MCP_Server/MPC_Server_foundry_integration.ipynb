{
 "cells": [
  {
   "cell_type": "markdown",
   "id": "9fb1fad6",
   "metadata": {},
   "source": [
    "# 🎯 Goal of the Exercise\n",
    "\n",
    "In this exercise you will learn how to integrate an Azure AI Projects agent with an external Model Context Protocol (MCP) server, run an agent that uses MCP tools, and handle approval and inspection of tool calls.\n",
    "\n",
    "Objectives:\n",
    "- Configure and instantiate AIProjectClient and McpTool for MCP server usage.\n",
    "- Create an agent, start a run that uses MCP tools, and send a user prompt.\n",
    "- Handle the tool-approval workflow (detect required approvals and submit approvals).\n",
    "- Inspect run steps, tool calls, and conversation messages.\n",
    "- Clean up resources by deleting the agent and closing the client.\n",
    "\n",
    "Prerequisites:\n",
    "- Set AI_PROJECT_ENDPOINT, MCP_SERVER_URL, MCP_SERVER_LABEL and Azure credentials in ../../.env.\n",
    "- Install required packages (azure-ai-projects, azure-identity, python-dotenv).\n",
    "\n",
    "Notebook workflow (high-level):\n",
    "1. Load env and imports.\n",
    "2. Initialize AIProjectClient and McpTool.\n",
    "3. Create agent, thread, and user message; start a run.\n",
    "4. Poll run status and submit tool approvals when required.\n",
    "5. List run steps, fetch messages, and perform cleanup.\n",
    "\n",
    "Expected outcome:\n",
    "A working agent run demonstrating MCP integration, approval handling, and the ability to inspect tool calls and agent outputs."
   ]
  },
  {
   "cell_type": "markdown",
   "id": "4c8888f2",
   "metadata": {},
   "source": [
    "### Links to documentation\n",
    "\n",
    "https://learn.microsoft.com/en-us/azure/ai-foundry/agents/how-to/tools/model-context-protocol-samples?pivots=python\n",
    "\n"
   ]
  },
  {
   "cell_type": "markdown",
   "id": "5f1f9c38",
   "metadata": {},
   "source": [
    "### Imports and env:\n",
    "- Load .env file.\n",
    "- Import os, time, Azure AI Projects client, DefaultAzureCredential.\n",
    "- Import models used for agent and MCP tool interactions."
   ]
  },
  {
   "cell_type": "code",
   "execution_count": null,
   "id": "246cd1e4",
   "metadata": {},
   "outputs": [],
   "source": [
    "from dotenv import load_dotenv\n",
    "load_dotenv('../../.env')\n",
    "\n",
    "# Import necessary libraries\n",
    "\n",
    "import os, time\n",
    "from azure.ai.projects import AIProjectClient\n",
    "from azure.identity import DefaultAzureCredential\n",
    "from azure.ai.agents.models import (\n",
    "    ListSortOrder,\n",
    "    McpTool,\n",
    "    RequiredMcpToolCall,\n",
    "    RunStepActivityDetails,\n",
    "    SubmitToolApprovalAction,\n",
    "    ToolApproval,\n",
    ")"
   ]
  },
  {
   "cell_type": "markdown",
   "id": "57459be3",
   "metadata": {},
   "source": [
    "### AI project client & MCP tool setup :\n",
    "- Read MCP server URL/label from environment variables.\n",
    "- Instantiate the AIProjectClient (explicit, not using 'with') so cells can run separately.\n",
    "- Initialize McpTool and add an example allowed tool"
   ]
  },
  {
   "cell_type": "code",
   "execution_count": null,
   "id": "582230db",
   "metadata": {},
   "outputs": [],
   "source": [
    "# TODO : Get MCP server configuration from environment variables and create the client\n",
    "# TODO : Instantiate the client (not using 'with' so cells can be split)\n",
    "# TODO : Initialize agent MCP tool\n",
    "# TODO : Add an example allowed tool"
   ]
  },
  {
   "cell_type": "markdown",
   "id": "bd911a47",
   "metadata": {},
   "source": [
    "### Create agent, thread, message, and start a run :\n",
    "- Create an agent using the agents client.\n",
    "- Create a thread and send a user message.\n",
    "- Update MCP tool headers and create a run using the agent and tool resources."
   ]
  },
  {
   "cell_type": "code",
   "execution_count": null,
   "id": "57df6a29",
   "metadata": {},
   "outputs": [],
   "source": [
    "# TODO : Create agent, thread, message and start a run\n",
    "# TODO : Create thread\n",
    "# TODO : Create message\n",
    "# TODO : Prepare headers/approval and create run"
   ]
  },
  {
   "cell_type": "markdown",
   "id": "8e222d21",
   "metadata": {},
   "source": [
    "### Polling and approvals :\n",
    "- Poll the run status until completion.\n",
    "- If the run requires action and tool approval, gather tool calls and submit approvals.\n",
    "- Print the current run status and final result."
   ]
  },
  {
   "cell_type": "code",
   "execution_count": null,
   "id": "aad16e7d",
   "metadata": {},
   "outputs": [],
   "source": [
    "# TODO : Poll run status and handle tool approvals if required"
   ]
  },
  {
   "cell_type": "markdown",
   "id": "b0d25bc1",
   "metadata": {},
   "source": [
    "### Display results, messages and perform cleanup:\n",
    "- List run steps and display any tool calls or function parameters.\n",
    "- Fetch and print conversation messages.\n",
    "- Finally delete the agent and close the client."
   ]
  },
  {
   "cell_type": "code",
   "execution_count": null,
   "id": "fa094d50",
   "metadata": {},
   "outputs": [],
   "source": [
    "# TODO : Display run steps and tool calls\n",
    "# TODO : Fetch and log all messages\n",
    "# TODO : Clean-up and delete the agent once the run is finished.\n"
   ]
  }
 ],
 "metadata": {
  "kernelspec": {
   "display_name": "genaiops2envagent",
   "language": "python",
   "name": "python3"
  },
  "language_info": {
   "codemirror_mode": {
    "name": "ipython",
    "version": 3
   },
   "file_extension": ".py",
   "mimetype": "text/x-python",
   "name": "python",
   "nbconvert_exporter": "python",
   "pygments_lexer": "ipython3",
   "version": "3.12.11"
  }
 },
 "nbformat": 4,
 "nbformat_minor": 5
}
